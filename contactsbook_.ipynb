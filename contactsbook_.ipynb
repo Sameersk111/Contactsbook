{
  "nbformat": 4,
  "nbformat_minor": 0,
  "metadata": {
    "colab": {
      "provenance": []
    },
    "kernelspec": {
      "name": "python3",
      "display_name": "Python 3"
    },
    "language_info": {
      "name": "python"
    }
  },
  "cells": [
    {
      "cell_type": "code",
      "source": [
        "def checkphone(ph_no):\n",
        "  c=0\n",
        "  for i in ph_no:\n",
        "    if 48<=ord(i)<=57:                                 #checking if character is a number \n",
        "      c+=1\n",
        "  if (len(ph_no)==10 and c==10):                    #checking if no of integers are 10\n",
        "    return True\n",
        "  else:\n",
        "    return False\n",
        "    "
      ],
      "metadata": {
        "id": "_YwI-vC5k2xu"
      },
      "execution_count": 4,
      "outputs": []
    },
    {
      "cell_type": "code",
      "source": [
        "def  mailcheck(email):\n",
        "  valid=False\n",
        "  if len(email.split(\"@\"))==2: #if @ is present\n",
        "    if (len(email.split(\"@\")[0])!=0): #if username is there before @\n",
        "      if(len(email.split(\"@\")[1].split('.'))==2): #if . is present\n",
        "        temp=email.split(\"@\")[1].split('.')\n",
        "        if(len(temp[0])>=1 and len(temp[1])>=1):           #if prefix adn postfix is present \n",
        "          valid=True\n",
        "  return valid\n",
        "          \n",
        "\n"
      ],
      "metadata": {
        "id": "QAreTQ6W4f4n"
      },
      "execution_count": 5,
      "outputs": []
    },
    {
      "cell_type": "code",
      "execution_count": 27,
      "metadata": {
        "colab": {
          "base_uri": "https://localhost:8080/"
        },
        "id": "3KiKssRjkHTe",
        "outputId": "9c5cd915-8ed0-47f4-d996-72a5bc51e655"
      },
      "outputs": [
        {
          "output_type": "stream",
          "name": "stdout",
          "text": [
            "enter no of contacts to be saved : 1\n",
            "enter your name : sam\n",
            "enter your email id : sam@dif.com\n",
            "enter ur mobile number : 7896541232\n",
            "data saved ..\n"
          ]
        }
      ],
      "source": [
        "#contacts book \n",
        "n=int(input(\"enter no of contacts to be saved : \"))\n",
        "for i in range(n):\n",
        "  name=input(\"enter your name : \")\n",
        "  email=input(\"enter your email id : \")\n",
        "  ph_no=input(\"enter ur mobile number : \")\n",
        "  if checkphone(ph_no)==True and mailcheck(email)==True:\n",
        "    fd=open(\"phonebook.txt\",\"a\")\n",
        "    fd.write(name)\n",
        "    fd.write(\",\")\n",
        "    fd.write(email)\n",
        "    fd.write(\",\")\n",
        "    fd.write(ph_no)\n",
        "    fd.write(\"\\n\")\n",
        "    fd.close()\n",
        "    print(\"data saved ..\")\n",
        "  else:\n",
        "    print(\"this contact is invalid : \")\n",
        "    print('_'*30)\n",
        "    \n"
      ]
    },
    {
      "cell_type": "code",
      "source": [
        "# reading data from text file \n",
        "fd=open('phonebook.txt','r')\n",
        "text=fd.read()\n",
        "fd.close()\n",
        "users=text.split('\\n')[:-1]"
      ],
      "metadata": {
        "id": "b7EflX8W5Vlx"
      },
      "execution_count": 28,
      "outputs": []
    },
    {
      "cell_type": "code",
      "source": [
        "for user in users:\n",
        "  name=user.split(',')[0]\n",
        "  mail=user.split(',')[1]\n",
        "  pn=user.split(',')[2]\n",
        "  print(name,mail,pn)"
      ],
      "metadata": {
        "colab": {
          "base_uri": "https://localhost:8080/"
        },
        "id": "zh_FeoP3EAQ1",
        "outputId": "a6f30a26-6d41-4175-82e0-4f319a9b88c7"
      },
      "execution_count": 9,
      "outputs": [
        {
          "output_type": "stream",
          "name": "stdout",
          "text": [
            "sameer sam@jio.com 7896541232\n"
          ]
        }
      ]
    },
    {
      "cell_type": "code",
      "source": [
        "#Search Data based on Name "
      ],
      "metadata": {
        "id": "cer96UOeEBe6"
      },
      "execution_count": 10,
      "outputs": []
    },
    {
      "cell_type": "code",
      "source": [
        "n=input(\"enter name to search : \")\n",
        "for user in users:\n",
        "  name=user.split(',')[0]\n",
        "  mail=user.split(',')[1]\n",
        "  pn=user.split(',')[2]\n",
        "  if name.lower()==n.lower():\n",
        "    print(\"name : \",name)\n",
        "    print(\"mail : \",mail)\n",
        "    print(\"phone number : \",pn)\n"
      ],
      "metadata": {
        "colab": {
          "base_uri": "https://localhost:8080/"
        },
        "id": "NHyeohiMJIGv",
        "outputId": "ca200e44-21f5-476c-ff10-6ee67f5877c2"
      },
      "execution_count": 11,
      "outputs": [
        {
          "output_type": "stream",
          "name": "stdout",
          "text": [
            "enter name to search : sameer\n",
            "name :  sameer\n",
            "mail :  sam@jio.com\n",
            "phone number :  7896541232\n"
          ]
        }
      ]
    },
    {
      "cell_type": "code",
      "source": [
        "#search based on email id \n",
        "n=input(\"enter email to search : \")\n",
        "for user in users:\n",
        "  name=user.split(',')[0]\n",
        "  mail=user.split(',')[1]\n",
        "  pn=user.split(',')[2]\n",
        "  if mail.lower()==n.lower():\n",
        "    print(\"name : \",name)\n",
        "    print(\"mail : \",mail)\n",
        "    print(\"phone number : \",pn)"
      ],
      "metadata": {
        "colab": {
          "base_uri": "https://localhost:8080/"
        },
        "id": "DvwTaVrwJ6zZ",
        "outputId": "c5596ad3-d483-48ae-d414-74eae9701d41"
      },
      "execution_count": 12,
      "outputs": [
        {
          "output_type": "stream",
          "name": "stdout",
          "text": [
            "enter email to search : sam@jio.com\n",
            "name :  sameer\n",
            "mail :  sam@jio.com\n",
            "phone number :  7896541232\n"
          ]
        }
      ]
    },
    {
      "cell_type": "code",
      "source": [
        "#search data with insufficient info(name)"
      ],
      "metadata": {
        "id": "ZYWl5bJXKeJF"
      },
      "execution_count": 13,
      "outputs": []
    },
    {
      "cell_type": "code",
      "source": [
        "def search_name():\n",
        "  n=input(\"enter data \")\n",
        "  for user  in users:\n",
        "    name=user.split(',')[0]\n",
        "    mail=user.split(',')[1]\n",
        "    pn=user.split(',')[2]\n",
        "    if(n.lower() in name.lower()):\n",
        "      print('_'*35)\n",
        "      print('Name : ',name)\n",
        "      print('mail id : ',mail)\n",
        "      print('mob num : ',pn)"
      ],
      "metadata": {
        "id": "9ORu1rnzLrnI"
      },
      "execution_count": 22,
      "outputs": []
    },
    {
      "cell_type": "code",
      "source": [
        "#search data with insufficient info(num)"
      ],
      "metadata": {
        "id": "YiW75UJVuxM3"
      },
      "execution_count": 17,
      "outputs": []
    },
    {
      "cell_type": "code",
      "source": [
        "c=str(input(\"enter number to search : \"))\n",
        "for user in users:\n",
        "  name=user.split(',')[0]\n",
        "  mail=user.split(',')[1]\n",
        "  pn=user.split(',')[2]\n",
        "  if c in pn:\n",
        "    print('Name : ',name)\n",
        "    print('mail id : ',mail)\n",
        "    print('phone number : ',pn)"
      ],
      "metadata": {
        "colab": {
          "base_uri": "https://localhost:8080/"
        },
        "id": "3cHvTVD4w7uf",
        "outputId": "a7aae9f0-7fab-4641-f192-61d418b991b8"
      },
      "execution_count": 19,
      "outputs": [
        {
          "output_type": "stream",
          "name": "stdout",
          "text": [
            "enter number to search : 541\n",
            "Name :  sameer\n",
            "mail id :  sam@jio.com\n",
            "phone number :  7896541232\n"
          ]
        }
      ]
    },
    {
      "cell_type": "code",
      "source": [
        "#search method "
      ],
      "metadata": {
        "id": "YqO--hB-xY--"
      },
      "execution_count": 21,
      "outputs": []
    },
    {
      "cell_type": "code",
      "source": [
        "search_name()"
      ],
      "metadata": {
        "colab": {
          "base_uri": "https://localhost:8080/"
        },
        "id": "uW5vd1lX07Hn",
        "outputId": "2dfcdf5e-409c-4bd8-85e0-133950393040"
      },
      "execution_count": 23,
      "outputs": [
        {
          "output_type": "stream",
          "name": "stdout",
          "text": [
            "enter data r\n",
            "___________________________________\n",
            "Name :  sameer\n",
            "mail id :  sam@jio.com\n",
            "mob num :  7896541232\n"
          ]
        }
      ]
    },
    {
      "cell_type": "code",
      "source": [],
      "metadata": {
        "id": "z0hcqXjW1Pmu"
      },
      "execution_count": null,
      "outputs": []
    }
  ]
}